{
  "nbformat": 4,
  "nbformat_minor": 0,
  "metadata": {
    "colab": {
      "provenance": [],
      "toc_visible": true
    },
    "kernelspec": {
      "name": "python3",
      "display_name": "Python 3"
    },
    "language_info": {
      "name": "python"
    }
  },
  "cells": [
    {
      "cell_type": "markdown",
      "source": [
        "DICTIONNAIRE\n",
        "\n",
        "variable = {\"cle1\": \"valeur1\", \"cle2\": \"valeur2\", \"cle3\": \"valeur3\", ...} La variable est composée de paires clé-valeur qui n'ont pas d'indice ou de position fixe.\n",
        "\n",
        "Le dictionnaire est :\n",
        "\n",
        "non-ordonné modifiable autorise des doublons de clé, mais pas de valeur\n",
        "\n",
        "Le dictionnaire peut contenir :\n",
        "\n",
        "int (entier) float (nombre à virgule) bool (booléen) tuple (tuple) ensemble (ensemble) complexe (nombre complexe)\n",
        "\n",
        "Cependant, il est important de noter que la conversion de ces types de données en chaînes de caractères peut entraîner une perte d'information ou de précision, en particulier pour les nombres à virgule flottante et les nombres complexes. De plus, la conversion inverse de chaînes de caractères en types de données peut également entraîner des erreurs si la chaîne n'est pas correctement formatée ou si elle contient des données incorrectes."
      ],
      "metadata": {
        "id": "dKFyxLI0wEdW"
      }
    },
    {
      "cell_type": "markdown",
      "source": [
        "#1/BASES#"
      ],
      "metadata": {
        "id": "lSVa6l4lxgLs"
      }
    },
    {
      "cell_type": "code",
      "source": [
        "# Création d'un dictionnaire avec les fruits et leur quantité\n",
        "fruit_dict = {\"apple\": 5, \"banana\": 10, \"cherry\": 3}\n",
        "\n",
        "# Affichage de toutes les clés du dictionnaire\n",
        "for key in fruit_dict.keys():\n",
        "    print(key)\n",
        "\n",
        "# Affichage de toutes les valeurs du dictionnaire\n",
        "for value in fruit_dict.values():\n",
        "    print(value)\n",
        "\n",
        "# Affichage de toutes les clés et leurs valeurs du dictionnaire\n",
        "for key, value in fruit_dict.items():\n",
        "    print(f\"La clé '{key}' a pour valeur '{value}'\")\n",
        "\n",
        "# Vérification si une clé existe dans le dictionnaire\n",
        "if \"apple\" in fruit_dict:\n",
        "    print(\"La clé 'apple' existe dans le dictionnaire\")\n",
        "\n",
        "# Vérification si une clé n'existe pas dans le dictionnaire\n",
        "if \"orange\" not in fruit_dict:\n",
        "    print(\"La clé 'orange' n'existe pas dans le dictionnaire\")\n"
      ],
      "metadata": {
        "id": "xYbLgkiQyW4B",
        "colab": {
          "base_uri": "https://localhost:8080/"
        },
        "outputId": "d7529418-e4f6-46f6-8b8f-f6586c8e708d"
      },
      "execution_count": 1,
      "outputs": [
        {
          "output_type": "stream",
          "name": "stdout",
          "text": [
            "apple\n",
            "banana\n",
            "cherry\n",
            "5\n",
            "10\n",
            "3\n",
            "La clé 'apple' a pour valeur '5'\n",
            "La clé 'banana' a pour valeur '10'\n",
            "La clé 'cherry' a pour valeur '3'\n",
            "La clé 'apple' existe dans le dictionnaire\n",
            "La clé 'orange' n'existe pas dans le dictionnaire\n"
          ]
        }
      ]
    },
    {
      "cell_type": "markdown",
      "source": [
        "#2/BASES SUR LES DICT CONTENANT PLUSIEURS TYPES\n",
        "\n",
        "Un dictionnaire en Python peut contenir différents types d'objets, tels que:\n",
        "\n",
        "- Les chaînes de caractères (string)\n",
        "- Les nombres (integer, float)\n",
        "- Les booléens (bool)\n",
        "- Les listes (list)\n",
        "- Les tuples (tuple)\n",
        "- Les ensembles (set)\n",
        "- Les dictionnaires (dict)\n",
        "- Les fonctions\n",
        "- Les classes\n",
        "- Et autres types d'objets Python.\n",
        "\n",
        "En général, les clés d'un dictionnaire doivent être immuables (ne pas pouvoir être modifiées), donc les types les plus courants utilisés pour les clés sont les chaînes de caractères, les nombres et les tuples immuables. Les valeurs peuvent être n'importe quel type d'objet Python."
      ],
      "metadata": {
        "id": "x75HqPBryaks"
      }
    },
    {
      "cell_type": "code",
      "source": [
        "# Création d'un dictionnaire contenant différents types de valeurs\n",
        "my_dict = {\n",
        "    \"string\": \"Hello World\",\n",
        "    \"integer\": 42,\n",
        "    \"float\": 3.14,\n",
        "    \"boolean\": True,\n",
        "    \"list\": [1, 2, 3],\n",
        "    \"tuple\": (4, 5, 6),\n",
        "    \"set\": {7, 8, 9},\n",
        "    \"dict\": {\"key\": \"value\"}\n",
        "}\n",
        "\n",
        "# Affichage d'un élément de chaque type présent dans le dictionnaire\n",
        "print(\"Un élément de chaque type dans le dictionnaire:\")\n",
        "print(\"String:\", my_dict[\"string\"])  # affiche 'Hello World'\n",
        "print(\"Integer:\", my_dict[\"integer\"])  # affiche 42\n",
        "print(\"Float:\", my_dict[\"float\"])  # affiche 3.14\n",
        "print(\"Boolean:\", my_dict[\"boolean\"])  # affiche True\n",
        "print(\"List:\", my_dict[\"list\"])  # affiche [1, 2, 3]\n",
        "print(\"Tuple:\", my_dict[\"tuple\"])  # affiche (4, 5, 6)\n",
        "print(\"Set:\", my_dict[\"set\"])  # affiche {8, 9, 7}\n",
        "print(\"Dictionary:\", my_dict[\"dict\"])  # affiche {'key': 'value'}"
      ],
      "metadata": {
        "id": "GpJYQZHLzAhA",
        "colab": {
          "base_uri": "https://localhost:8080/"
        },
        "outputId": "5cad546a-3041-46e4-c068-393f6b267e51"
      },
      "execution_count": 2,
      "outputs": [
        {
          "output_type": "stream",
          "name": "stdout",
          "text": [
            "Un élément de chaque type dans le dictionnaire:\n",
            "String: Hello World\n",
            "Integer: 42\n",
            "Float: 3.14\n",
            "Boolean: True\n",
            "List: [1, 2, 3]\n",
            "Tuple: (4, 5, 6)\n",
            "Set: {8, 9, 7}\n",
            "Dictionary: {'key': 'value'}\n"
          ]
        }
      ]
    },
    {
      "cell_type": "code",
      "source": [
        "# Création d'un dictionnaire contenant différents types de valeurs\n",
        "my_dict = {\n",
        "    \"string\": \"Hello World\",\n",
        "    \"integer\": 42,\n",
        "    \"float\": 3.14,\n",
        "    \"boolean\": True,\n",
        "    \"list\": [1, 2, 3],\n",
        "    \"tuple\": (4, 5, 6),\n",
        "    \"set\": {7, 8, 9},\n",
        "    \"dict\": {\"key\": \"value\"}\n",
        "}\n",
        "\n",
        "# Boucle pour parcourir chaque clé et valeur du dictionnaire\n",
        "for key, value in my_dict.items():\n",
        "    # Affichage du type de la valeur\n",
        "    print(f\"Type de {key} : {type(value)}\")\n",
        "    # Affichage du contenu de la valeur\n",
        "    print(f\"Contenu de {key} : {value}\")\n"
      ],
      "metadata": {
        "colab": {
          "base_uri": "https://localhost:8080/"
        },
        "id": "sYqLu-5BzUY0",
        "outputId": "7a1fdca6-03d1-47ab-8e56-27e30596c2cb"
      },
      "execution_count": 3,
      "outputs": [
        {
          "output_type": "stream",
          "name": "stdout",
          "text": [
            "Type de string : <class 'str'>\n",
            "Contenu de string : Hello World\n",
            "Type de integer : <class 'int'>\n",
            "Contenu de integer : 42\n",
            "Type de float : <class 'float'>\n",
            "Contenu de float : 3.14\n",
            "Type de boolean : <class 'bool'>\n",
            "Contenu de boolean : True\n",
            "Type de list : <class 'list'>\n",
            "Contenu de list : [1, 2, 3]\n",
            "Type de tuple : <class 'tuple'>\n",
            "Contenu de tuple : (4, 5, 6)\n",
            "Type de set : <class 'set'>\n",
            "Contenu de set : {8, 9, 7}\n",
            "Type de dict : <class 'dict'>\n",
            "Contenu de dict : {'key': 'value'}\n"
          ]
        }
      ]
    },
    {
      "cell_type": "code",
      "source": [
        "# Création d'un dictionnaire contenant différents types de valeurs\n",
        "my_dict = {\n",
        "    \"string\": \"Hello World\",\n",
        "    \"integer\": 42,\n",
        "    \"float\": 3.14,\n",
        "    \"boolean\": True,\n",
        "    \"list\": [1, 2, 3],\n",
        "    \"tuple\": (4, 5, 6),\n",
        "    \"set\": {7, 8, 9},\n",
        "    \"dict\": {\"key\": \"value\"}\n",
        "}\n",
        "\n",
        "# Boucle pour parcourir chaque clé et valeur du dictionnaire\n",
        "for key, value in my_dict.items():\n",
        "    # Si la valeur est une liste, afficher le type de chaque élément\n",
        "    if type(value) == list:\n",
        "        for elt in value:\n",
        "            print(f\"Type de {key}[{value.index(elt)}] : {type(elt)}\") # Affiche le type de l'élément de la liste\n",
        "    # Si la valeur est un tuple, afficher le type de chaque élément\n",
        "    elif type(value) == tuple:\n",
        "        for elt in value:\n",
        "            print(f\"Type de {key}[{value.index(elt)}] : {type(elt)}\") # Affiche le type de l'élément du tuple\n",
        "    # Si la valeur est un ensemble, afficher le type de chaque élément\n",
        "    elif type(value) == set:\n",
        "        for elt in value:\n",
        "            print(f\"Type de {key}[{list(value).index(elt)}] : {type(elt)}\") # Affiche le type de l'élément de l'ensemble\n",
        "    # Si la valeur est un dictionnaire, afficher le type de chaque valeur\n",
        "    elif type(value) == dict:\n",
        "        for k, v in value.items():\n",
        "            print(f\"Type de {key}['{k}'] : {type(v)}\") # Affiche le type de la valeur dans le dictionnaire\n",
        "    # Sinon, afficher simplement le type de la valeur\n",
        "    else:\n",
        "        print(f\"Type de {key} : {type(value)}\") # Affiche le type de la valeur\n"
      ],
      "metadata": {
        "colab": {
          "base_uri": "https://localhost:8080/"
        },
        "id": "H_D_dxQh0eki",
        "outputId": "d86413db-957c-4357-ea5a-4488d6c94c25"
      },
      "execution_count": 4,
      "outputs": [
        {
          "output_type": "stream",
          "name": "stdout",
          "text": [
            "Type de string : <class 'str'>\n",
            "Type de integer : <class 'int'>\n",
            "Type de float : <class 'float'>\n",
            "Type de boolean : <class 'bool'>\n",
            "Type de list[0] : <class 'int'>\n",
            "Type de list[1] : <class 'int'>\n",
            "Type de list[2] : <class 'int'>\n",
            "Type de tuple[0] : <class 'int'>\n",
            "Type de tuple[1] : <class 'int'>\n",
            "Type de tuple[2] : <class 'int'>\n",
            "Type de set[0] : <class 'int'>\n",
            "Type de set[1] : <class 'int'>\n",
            "Type de set[2] : <class 'int'>\n",
            "Type de dict['key'] : <class 'str'>\n"
          ]
        }
      ]
    },
    {
      "cell_type": "markdown",
      "source": [
        "#3/COMMENT REMPLACER OU SUPPRIMER UN ELEMENT OU PLUSIEURS ELEMENT D UN DICT ET COMMENT EN ASSOCIE DEUX"
      ],
      "metadata": {
        "id": "rYdD1OFF0mPp"
      }
    },
    {
      "cell_type": "code",
      "source": [
        "# Création d'un dictionnaire\n",
        "my_dict = {\n",
        "    \"fruit\": \"apple\",\n",
        "    \"vegetable\": \"carrot\",\n",
        "    \"drink\": \"water\",\n",
        "    \"dessert\": \"cake\"\n",
        "}\n",
        "\n",
        "# Affichage du dictionnaire initial\n",
        "print(\"Dictionnaire initial :\")\n",
        "print(my_dict) # {'fruit': 'apple', 'vegetable': 'carrot', 'drink': 'water', 'dessert': 'cake'}\n",
        "\n",
        "# Remplacement d'un élément\n",
        "my_dict[\"fruit\"] = \"banana\"\n",
        "\n",
        "# Suppression d'un élément\n",
        "del my_dict[\"vegetable\"]\n",
        "\n",
        "# Association de deux dictionnaires\n",
        "other_dict = {\n",
        "    \"drink\": \"juice\",\n",
        "    \"sport\": \"football\"\n",
        "}\n",
        "my_dict.update(other_dict)\n",
        "\n",
        "# Affichage du dictionnaire modifié\n",
        "print(\"Dictionnaire modifié :\")\n",
        "print(my_dict) # {'fruit': 'banana', 'drink': 'juice', 'dessert': 'cake', 'sport': 'football'}\n",
        "\n",
        "# Remplacement de plusieurs éléments\n",
        "my_dict.update({\"fruit\": \"orange\", \"dessert\": \"ice cream\"})\n",
        "\n",
        "# Affichage du dictionnaire modifié\n",
        "print(\"Dictionnaire modifié (après remplacement de plusieurs éléments) :\")\n",
        "print(my_dict) # {'fruit': 'orange', 'drink': 'juice', 'dessert': 'ice cream', 'sport': 'football'}\n",
        "\n",
        "# Changer les éléments du milieu par d'autres éléments\n",
        "keys = list(my_dict.keys())\n",
        "values = list(my_dict.values())\n",
        "middle = len(keys) // 2\n",
        "values[middle:middle+2] = [\"chocolate\", \"candy\"]\n",
        "new_dict = dict(zip(keys, values))\n",
        "\n",
        "# Affichage du nouveau dictionnaire\n",
        "print(\"Nouveau dictionnaire (après changement des éléments du milieu) :\")\n",
        "print(new_dict) # {'fruit': 'orange', 'drink': 'juice', 'dessert': 'chocolate', 'sport': 'candy'}\n"
      ],
      "metadata": {
        "id": "c9zQzv6k1XPr",
        "colab": {
          "base_uri": "https://localhost:8080/"
        },
        "outputId": "6c0c4aed-15d6-49bd-b3c7-0fe72e4fbd61"
      },
      "execution_count": 5,
      "outputs": [
        {
          "output_type": "stream",
          "name": "stdout",
          "text": [
            "Dictionnaire initial :\n",
            "{'fruit': 'apple', 'vegetable': 'carrot', 'drink': 'water', 'dessert': 'cake'}\n",
            "Dictionnaire modifié :\n",
            "{'fruit': 'banana', 'drink': 'juice', 'dessert': 'cake', 'sport': 'football'}\n",
            "Dictionnaire modifié (après remplacement de plusieurs éléments) :\n",
            "{'fruit': 'orange', 'drink': 'juice', 'dessert': 'ice cream', 'sport': 'football'}\n",
            "Nouveau dictionnaire (après changement des éléments du milieu) :\n",
            "{'fruit': 'orange', 'drink': 'juice', 'dessert': 'chocolate', 'sport': 'candy'}\n"
          ]
        }
      ]
    },
    {
      "cell_type": "markdown",
      "source": [
        "#4/SLICING#"
      ],
      "metadata": {
        "id": "sKkI3y201cYC"
      }
    },
    {
      "cell_type": "markdown",
      "source": [
        "DES KEYS DU DICT"
      ],
      "metadata": {
        "id": "Z0GxELPf2i4N"
      }
    },
    {
      "cell_type": "code",
      "source": [
        "# Création d'un dictionnaire\n",
        "my_dict = {\n",
        "    \"fruit\": \"apple\",\n",
        "    \"vegetable\": \"carrot\",\n",
        "    \"drink\": \"water\",\n",
        "    \"dessert\": \"cake\",\n",
        "    \"snack\": \"chips\",\n",
        "    \"animal\": \"cat\",\n",
        "    \"color\": \"blue\",\n",
        "    \"number\": 42,\n",
        "    \"letter\": \"a\",\n",
        "    \"country\": \"France\"\n",
        "}\n",
        "\n",
        "# Slicing des clés avec un seul indice - affiche les clés à partir de l'indice spécifié jusqu'à la fin du dictionnaire\n",
        "print(list(my_dict.keys())[2:]) # ['drink', 'dessert', 'snack', 'animal', 'color', 'number', 'letter', 'country']\n",
        "\n",
        "# Slicing des clés avec deux indices - affiche les clés entre les deux indices spécifiés (exclus)\n",
        "print(list(my_dict.keys())[2:6]) # ['drink', 'dessert', 'snack', 'animal']\n",
        "\n",
        "# Slicing des clés avec des indices négatifs - affiche les clés à partir de la fin du dictionnaire\n",
        "print(list(my_dict.keys())[-3:]) # ['number', 'letter', 'country']\n",
        "\n",
        "# Slicing des clés avec des pas - affiche les clés en sautant des indices\n",
        "print(list(my_dict.keys())[1:8:2]) # ['vegetable', 'dessert', 'animal', 'number']\n",
        "\n",
        "# Slicing des clés avec des pas négatifs - affiche les clés en sautant des indices dans l'ordre inverse\n",
        "print(list(my_dict.keys())[::-1]) # ['country', 'letter', 'number', 'color', 'animal', 'snack', 'dessert', 'drink', 'vegetable', 'fruit']"
      ],
      "metadata": {
        "id": "vvYonAIX2lZC",
        "colab": {
          "base_uri": "https://localhost:8080/"
        },
        "outputId": "50b4b56d-d31c-4e8d-8f9a-4c6a15a4596c"
      },
      "execution_count": 6,
      "outputs": [
        {
          "output_type": "stream",
          "name": "stdout",
          "text": [
            "['drink', 'dessert', 'snack', 'animal', 'color', 'number', 'letter', 'country']\n",
            "['drink', 'dessert', 'snack', 'animal']\n",
            "['number', 'letter', 'country']\n",
            "['vegetable', 'dessert', 'animal', 'number']\n",
            "['country', 'letter', 'number', 'color', 'animal', 'snack', 'dessert', 'drink', 'vegetable', 'fruit']\n"
          ]
        }
      ]
    },
    {
      "cell_type": "markdown",
      "source": [
        "DES VALEURS DU DICT"
      ],
      "metadata": {
        "id": "Sw_A8Ux22szA"
      }
    },
    {
      "cell_type": "code",
      "source": [
        "# Création d'un dictionnaire\n",
        "my_dict = {\n",
        "    \"fruit\": \"apple\",\n",
        "    \"vegetable\": \"carrot\",\n",
        "    \"drink\": \"water\",\n",
        "    \"dessert\": \"cake\",\n",
        "    \"snack\": \"chips\",\n",
        "    \"animal\": \"cat\",\n",
        "    \"color\": \"blue\",\n",
        "    \"number\": 42,\n",
        "    \"letter\": \"a\",\n",
        "    \"country\": \"France\"\n",
        "}\n",
        "\n",
        "# Slicing des valeurs avec un seul indice - affiche les valeurs à partir de l'indice spécifié jusqu'à la fin du dictionnaire\n",
        "print(list(my_dict.values())[2:]) # ['water', 'cake', 'chips', 'cat', 'blue', 42, 'a', 'France']\n",
        "\n",
        "# Slicing des valeurs avec deux indices - affiche les valeurs entre les deux indices spécifiés (exclus)\n",
        "print(list(my_dict.values())[2:6]) # ['water', 'cake', 'chips', 'cat']\n",
        "\n",
        "# Slicing des valeurs avec des indices négatifs - affiche les valeurs à partir de la fin du dictionnaire\n",
        "print(list(my_dict.values())[-3:]) # [42, 'a', 'France']\n",
        "\n",
        "# Slicing des valeurs avec des pas - affiche les valeurs en sautant des indices\n",
        "print(list(my_dict.values())[1:8:2]) # ['carrot', 'cake', 'cat', 42]\n",
        "\n",
        "# Slicing des valeurs avec des pas négatifs - affiche les valeurs en sautant des indices dans l'ordre inverse\n",
        "print(list(my_dict.values())[::-1]) # ['France', 'a', 42, 'blue', 'cat', 'chips', 'cake', 'water', 'carrot', 'apple']\n"
      ],
      "metadata": {
        "id": "VsgCBA6j2_1a",
        "colab": {
          "base_uri": "https://localhost:8080/"
        },
        "outputId": "a3666de2-4aaf-443f-f976-271c48991459"
      },
      "execution_count": 7,
      "outputs": [
        {
          "output_type": "stream",
          "name": "stdout",
          "text": [
            "['water', 'cake', 'chips', 'cat', 'blue', 42, 'a', 'France']\n",
            "['water', 'cake', 'chips', 'cat']\n",
            "[42, 'a', 'France']\n",
            "['carrot', 'cake', 'cat', 42]\n",
            "['France', 'a', 42, 'blue', 'cat', 'chips', 'cake', 'water', 'carrot', 'apple']\n"
          ]
        }
      ]
    },
    {
      "cell_type": "markdown",
      "source": [
        "DES ELEMENTS (ITEMS) DU DICT"
      ],
      "metadata": {
        "id": "gAdyWTmX3H61"
      }
    },
    {
      "cell_type": "code",
      "source": [
        "# Création du dictionnaire\n",
        "my_dict = {\n",
        "    \"fruit\": \"apple\",\n",
        "    \"vegetable\": \"carrot\",\n",
        "    \"drink\": \"water\",\n",
        "    \"dessert\": \"cake\",\n",
        "    \"snack\": \"chips\",\n",
        "    \"animal\": \"cat\",\n",
        "    \"color\": \"blue\",\n",
        "    \"number\": 42,\n",
        "    \"letter\": \"a\",\n",
        "    \"country\": \"France\"\n",
        "}\n",
        "\n",
        "# Slicing des éléments du dictionnaire avec un seul indice - affiche les éléments à partir de l'indice spécifié jusqu'à la fin du dictionnaire\n",
        "print(list(my_dict.items())[2:]) # [('drink', 'water'), ('dessert', 'cake'), ('snack', 'chips'), ('animal', 'cat'), ('color', 'blue'), ('number', 42), ('letter', 'a'), ('country', 'France')]\n",
        "\n",
        "# Slicing des éléments du dictionnaire avec deux indices - affiche les éléments entre les deux indices spécifiés (exclus)\n",
        "print(list(my_dict.items())[2:6]) # [('drink', 'water'), ('dessert', 'cake'), ('snack', 'chips'), ('animal', 'cat')]\n",
        "\n",
        "# Slicing des éléments du dictionnaire avec des indices négatifs - affiche les éléments à partir de la fin du dictionnaire\n",
        "print(list(my_dict.items())[-3:]) # [('number', 42), ('letter', 'a'), ('country', 'France')]\n",
        "\n",
        "# Slicing des éléments du dictionnaire avec des pas - affiche les éléments en sautant des indices\n",
        "print(list(my_dict.items())[1:8:2]) # [('vegetable', 'carrot'), ('dessert', 'cake'), ('animal', 'cat'), ('number', 42)]\n",
        "\n",
        "# Slicing des éléments du dictionnaire avec des pas négatifs - affiche les éléments en sautant des indices dans l'ordre inverse\n",
        "print(list(my_dict.items())[::-1]) # [('country', 'France'), ('letter', 'a'), ('number', 42), ('color', 'blue'), ('animal', 'cat'), ('snack', 'chips'), ('dessert', 'cake'), ('drink', 'water'), ('vegetable', 'carrot'), ('fruit', 'apple')]\n"
      ],
      "metadata": {
        "id": "AMI6GmUO3N-l",
        "colab": {
          "base_uri": "https://localhost:8080/"
        },
        "outputId": "2a6ff2f4-0c45-4d4d-efc3-8489f74f3d35"
      },
      "execution_count": 8,
      "outputs": [
        {
          "output_type": "stream",
          "name": "stdout",
          "text": [
            "[('drink', 'water'), ('dessert', 'cake'), ('snack', 'chips'), ('animal', 'cat'), ('color', 'blue'), ('number', 42), ('letter', 'a'), ('country', 'France')]\n",
            "[('drink', 'water'), ('dessert', 'cake'), ('snack', 'chips'), ('animal', 'cat')]\n",
            "[('number', 42), ('letter', 'a'), ('country', 'France')]\n",
            "[('vegetable', 'carrot'), ('dessert', 'cake'), ('animal', 'cat'), ('number', 42)]\n",
            "[('country', 'France'), ('letter', 'a'), ('number', 42), ('color', 'blue'), ('animal', 'cat'), ('snack', 'chips'), ('dessert', 'cake'), ('drink', 'water'), ('vegetable', 'carrot'), ('fruit', 'apple')]\n"
          ]
        }
      ]
    },
    {
      "cell_type": "markdown",
      "source": [
        "#5/METHODES"
      ],
      "metadata": {
        "id": "pejpjcC53am2"
      }
    },
    {
      "cell_type": "code",
      "source": [
        "# Création d'un dictionnaire\n",
        "my_dict = {\n",
        "    \"fruit\": \"apple\",\n",
        "    \"vegetable\": \"carrot\",\n",
        "    \"drink\": \"water\",\n",
        "    \"dessert\": \"cake\",\n",
        "    \"snack\": \"chips\",\n",
        "    \"animal\": \"cat\",\n",
        "    \"color\": \"blue\",\n",
        "    \"number\": 42,\n",
        "    \"letter\": \"a\",\n",
        "    \"country\": \"France\"\n",
        "}\n",
        "\n",
        "# Affichage du dictionnaire\n",
        "print(\"Dictionnaire initial :\")\n",
        "print(my_dict)\n",
        "print()\n",
        "\n",
        "# Méthode clear() - supprime tous les éléments du dictionnaire\n",
        "my_dict.clear()\n",
        "print(\"Après avoir utilisé la méthode clear() :\")\n",
        "print(my_dict)\n",
        "print()\n",
        "\n",
        "# Remplissage du dictionnaire\n",
        "my_dict = {\n",
        "    \"fruit\": \"apple\",\n",
        "    \"vegetable\": \"carrot\",\n",
        "    \"drink\": \"water\",\n",
        "    \"dessert\": \"cake\",\n",
        "    \"snack\": \"chips\",\n",
        "    \"animal\": \"cat\",\n",
        "    \"color\": \"blue\",\n",
        "    \"number\": 42,\n",
        "    \"letter\": \"a\",\n",
        "    \"country\": \"France\"\n",
        "}\n",
        "\n",
        "# Méthode copy() - renvoie une copie du dictionnaire\n",
        "new_dict = my_dict.copy()\n",
        "print(\"Après avoir utilisé la méthode copy() :\")\n",
        "print(new_dict)\n",
        "print()\n",
        "\n",
        "# Méthode del - supprime un élément du dictionnaire en spécifiant la clé\n",
        "del my_dict[\"number\"]\n",
        "print(\"Après avoir utilisé la méthode del pour supprimer l'élément 'number' :\")\n",
        "print(my_dict)\n",
        "print()\n",
        "\n",
        "# Méthode fromkeys() - crée un nouveau dictionnaire avec les clés spécifiées et les valeurs par défaut\n",
        "new_dict = {}.fromkeys(['fruit', 'vegetable', 'drink'], 'unknown')\n",
        "print(\"Après avoir utilisé la méthode fromkeys() :\")\n",
        "print(new_dict)\n",
        "print()\n",
        "\n",
        "# Méthode get() - renvoie la valeur associée à une clé spécifiée, ou une valeur par défaut si la clé n'existe pas\n",
        "print(\"Récupération de la valeur associée à la clé 'fruit' avec la méthode get() :\")\n",
        "print(my_dict.get('fruit', 'unknown'))\n",
        "print()\n",
        "\n",
        "# Méthode items() - renvoie une liste de tous les couples clé-valeur dans le dictionnaire\n",
        "print(\"Affichage de tous les couples clé-valeur du dictionnaire avec la méthode items() :\")\n",
        "print(list(my_dict.items()))\n",
        "print()\n",
        "\n",
        "# Méthode keys() - renvoie une liste de toutes les clés du dictionnaire\n",
        "print(\"Affichage de toutes les clés du dictionnaire avec la méthode keys() :\")\n",
        "print(list(my_dict.keys()))\n",
        "print()\n",
        "\n",
        "# Méthode len() - renvoie le nombre de couples clé-valeur dans le dictionnaire\n",
        "print(\"Nombre de couples clé-valeur dans le dictionnaire avec la méthode len() :\")\n",
        "print(len(my_dict))\n",
        "print()\n",
        "\n",
        "# Méthode pop() - supprime et renvoie la valeur associée à une clé spécifiée\n",
        "print(\"Suppression de la clé 'fruit' avec la méthode pop() :\")\n",
        "my_dict.pop('fruit')\n",
        "print(my_dict)\n",
        "print()\n",
        "\n",
        "# Utilisation de la méthode popitem() qui supprime et renvoie un couple clé-valeur aléatoire du dictionnaire\n",
        "popped_item = my_dict.popitem()\n",
        "# Affichage de la clé-valeur supprimée par la méthode popitem()\n",
        "print(\"Elément supprimé : \", popped_item) # Elément supprimé :  ('country', 'France')\n",
        "# Affichage du dictionnaire après la méthode popitem()\n",
        "print(\"Après : \", my_dict) # Après : {'fruit': 'apple', 'vegetable': 'carrot', 'drink': 'water', 'dessert': 'cake', 'snack': 'chips', 'animal': 'cat', 'color': 'blue', 'number': 42, 'letter': 'a'}\n",
        "\n",
        "# Méthode setdefault : retourne la valeur de la clé spécifiée si elle existe, sinon ajoute la clé avec une valeur par défaut et retourne cette valeur\n",
        "print(my_dict.setdefault(\"fruit\", \"orange\")) # apple\n",
        "print(my_dict.setdefault(\"sport\", \"football\")) # football\n",
        "print(my_dict) # {'fruit': 'apple', 'vegetable': 'carrot', 'drink': 'water', 'dessert': 'cake', 'snack': 'chips', 'animal': 'cat', 'color': 'blue', 'number': 42, 'letter': 'a', 'country': 'France', 'sport': 'football'}\n",
        "\n",
        "# Méthode update : met à jour le dictionnaire avec les paires clé-valeur d'un autre dictionnaire ou d'une séquence de paires clé-valeur\n",
        "my_dict.update({\"fruit\": \"orange\", \"drink\": \"juice\"}) \n",
        "print(my_dict) # {'fruit': 'orange', 'vegetable': 'carrot', 'drink': 'juice', 'dessert': 'cake', 'snack': 'chips', 'animal': 'cat', 'color': 'blue', 'number': 42, 'letter': 'a', 'country': 'France', 'sport': 'football'}\n",
        "\n",
        "# Méthode values : retourne une vue sur les valeurs du dictionnaire\n",
        "print(list(my_dict.values())) # ['orange', 'carrot', 'juice', 'cake', 'chips', 'cat', 'blue', 42, 'a', 'France', 'football']\n"
      ],
      "metadata": {
        "id": "jSpS84lv4LC4",
        "colab": {
          "base_uri": "https://localhost:8080/"
        },
        "outputId": "8269db87-a251-44e4-bedb-013f024d2176"
      },
      "execution_count": 9,
      "outputs": [
        {
          "output_type": "stream",
          "name": "stdout",
          "text": [
            "Dictionnaire initial :\n",
            "{'fruit': 'apple', 'vegetable': 'carrot', 'drink': 'water', 'dessert': 'cake', 'snack': 'chips', 'animal': 'cat', 'color': 'blue', 'number': 42, 'letter': 'a', 'country': 'France'}\n",
            "\n",
            "Après avoir utilisé la méthode clear() :\n",
            "{}\n",
            "\n",
            "Après avoir utilisé la méthode copy() :\n",
            "{'fruit': 'apple', 'vegetable': 'carrot', 'drink': 'water', 'dessert': 'cake', 'snack': 'chips', 'animal': 'cat', 'color': 'blue', 'number': 42, 'letter': 'a', 'country': 'France'}\n",
            "\n",
            "Après avoir utilisé la méthode del pour supprimer l'élément 'number' :\n",
            "{'fruit': 'apple', 'vegetable': 'carrot', 'drink': 'water', 'dessert': 'cake', 'snack': 'chips', 'animal': 'cat', 'color': 'blue', 'letter': 'a', 'country': 'France'}\n",
            "\n",
            "Après avoir utilisé la méthode fromkeys() :\n",
            "{'fruit': 'unknown', 'vegetable': 'unknown', 'drink': 'unknown'}\n",
            "\n",
            "Récupération de la valeur associée à la clé 'fruit' avec la méthode get() :\n",
            "apple\n",
            "\n",
            "Affichage de tous les couples clé-valeur du dictionnaire avec la méthode items() :\n",
            "[('fruit', 'apple'), ('vegetable', 'carrot'), ('drink', 'water'), ('dessert', 'cake'), ('snack', 'chips'), ('animal', 'cat'), ('color', 'blue'), ('letter', 'a'), ('country', 'France')]\n",
            "\n",
            "Affichage de toutes les clés du dictionnaire avec la méthode keys() :\n",
            "['fruit', 'vegetable', 'drink', 'dessert', 'snack', 'animal', 'color', 'letter', 'country']\n",
            "\n",
            "Nombre de couples clé-valeur dans le dictionnaire avec la méthode len() :\n",
            "9\n",
            "\n",
            "Suppression de la clé 'fruit' avec la méthode pop() :\n",
            "{'vegetable': 'carrot', 'drink': 'water', 'dessert': 'cake', 'snack': 'chips', 'animal': 'cat', 'color': 'blue', 'letter': 'a', 'country': 'France'}\n",
            "\n",
            "Elément supprimé :  ('country', 'France')\n",
            "Après :  {'vegetable': 'carrot', 'drink': 'water', 'dessert': 'cake', 'snack': 'chips', 'animal': 'cat', 'color': 'blue', 'letter': 'a'}\n",
            "orange\n",
            "football\n",
            "{'vegetable': 'carrot', 'drink': 'water', 'dessert': 'cake', 'snack': 'chips', 'animal': 'cat', 'color': 'blue', 'letter': 'a', 'fruit': 'orange', 'sport': 'football'}\n",
            "{'vegetable': 'carrot', 'drink': 'juice', 'dessert': 'cake', 'snack': 'chips', 'animal': 'cat', 'color': 'blue', 'letter': 'a', 'fruit': 'orange', 'sport': 'football'}\n",
            "['carrot', 'juice', 'cake', 'chips', 'cat', 'blue', 'a', 'orange', 'football']\n"
          ]
        }
      ]
    },
    {
      "cell_type": "markdown",
      "source": [
        "#6/BOUCLES"
      ],
      "metadata": {
        "id": "2kMhelys54k1"
      }
    },
    {
      "cell_type": "code",
      "source": [
        "# Création d'un dictionnaire\n",
        "my_dict = {\n",
        "    \"fruit\": \"apple\",\n",
        "    \"vegetable\": \"carrot\",\n",
        "    \"drink\": \"water\",\n",
        "    \"dessert\": \"cake\",\n",
        "    \"snack\": \"chips\",\n",
        "    \"animal\": \"cat\",\n",
        "    \"color\": \"blue\",\n",
        "    \"number\": 42,\n",
        "    \"letter\": \"a\",\n",
        "    \"country\": \"France\"\n",
        "}\n",
        "\n",
        "# Boucle for pour itérer sur les clés du dictionnaire\n",
        "print(\"Boucle for sur les clés :\")\n",
        "for key in my_dict:\n",
        "    print(key)  # Affiche chaque clé du dictionnaire\n",
        "\n",
        "# Boucle for pour itérer sur les valeurs du dictionnaire\n",
        "print(\"\\nBoucle for sur les valeurs :\")\n",
        "for value in my_dict.values():\n",
        "    print(value)  # Affiche chaque valeur du dictionnaire\n",
        "\n",
        "# Boucle for pour itérer sur les paires clé-valeur du dictionnaire\n",
        "print(\"\\nBoucle for sur les paires clé-valeur :\")\n",
        "for key, value in my_dict.items():\n",
        "    print(f\"{key}: {value}\")  # Affiche chaque paire clé-valeur\n",
        "\n",
        "# Boucle while pour chercher une clé spécifique dans le dictionnaire\n",
        "print(\"\\nRecherche d'une clé spécifique :\")\n",
        "search_key = \"number\"\n",
        "found = False\n",
        "while not found:\n",
        "    for key in my_dict:\n",
        "        if key == search_key:\n",
        "            print(f\"{search_key} trouvé !\")\n",
        "            found = True\n",
        "            break  # Sort de la boucle for\n",
        "    else:\n",
        "        print(f\"{search_key} non trouvé !\")\n",
        "        break  # Sort de la boucle while\n",
        "\n",
        "# Boucle while pour chercher une valeur spécifique dans le dictionnaire\n",
        "print(\"\\nRecherche d'une valeur spécifique :\")\n",
        "search_value = \"carrot\"\n",
        "found = False\n",
        "while not found:\n",
        "    for value in my_dict.values():\n",
        "        if value == search_value:\n",
        "            print(f\"{search_value} trouvé !\")\n",
        "            found = True\n",
        "            break  # Sort de la boucle for\n",
        "    else:\n",
        "        print(f\"{search_value} non trouvé !\")\n",
        "        break  # Sort de la boucle while\n"
      ],
      "metadata": {
        "id": "F036h_ef59ch",
        "colab": {
          "base_uri": "https://localhost:8080/"
        },
        "outputId": "3ddc60fc-8cf6-44ec-d05e-4b431d77bfae"
      },
      "execution_count": 10,
      "outputs": [
        {
          "output_type": "stream",
          "name": "stdout",
          "text": [
            "Boucle for sur les clés :\n",
            "fruit\n",
            "vegetable\n",
            "drink\n",
            "dessert\n",
            "snack\n",
            "animal\n",
            "color\n",
            "number\n",
            "letter\n",
            "country\n",
            "\n",
            "Boucle for sur les valeurs :\n",
            "apple\n",
            "carrot\n",
            "water\n",
            "cake\n",
            "chips\n",
            "cat\n",
            "blue\n",
            "42\n",
            "a\n",
            "France\n",
            "\n",
            "Boucle for sur les paires clé-valeur :\n",
            "fruit: apple\n",
            "vegetable: carrot\n",
            "drink: water\n",
            "dessert: cake\n",
            "snack: chips\n",
            "animal: cat\n",
            "color: blue\n",
            "number: 42\n",
            "letter: a\n",
            "country: France\n",
            "\n",
            "Recherche d'une clé spécifique :\n",
            "number trouvé !\n",
            "\n",
            "Recherche d'une valeur spécifique :\n",
            "carrot trouvé !\n"
          ]
        }
      ]
    },
    {
      "cell_type": "markdown",
      "source": [
        "#7/DEBALLAGE DICT"
      ],
      "metadata": {
        "id": "9OAhJuVE5_zS"
      }
    },
    {
      "cell_type": "code",
      "source": [
        "# Création d'un dictionnaire\n",
        "my_dict = {\n",
        "    \"fruit\": \"apple\",\n",
        "    \"vegetable\": \"carrot\",\n",
        "    \"drink\": \"water\",\n",
        "    \"dessert\": \"cake\",\n",
        "    \"snack\": \"chips\",\n",
        "    \"animal\": \"cat\",\n",
        "    \"color\": \"blue\",\n",
        "    \"number\": 42,\n",
        "    \"letter\": \"a\",\n",
        "    \"country\": \"France\"\n",
        "}\n",
        "\n",
        "# Méthode 1 : Utiliser la méthode items()\n",
        "print(\"Méthode 1 : Utiliser la méthode items()\")\n",
        "for key, value in my_dict.items():\n",
        "    print(key, \":\", value)\n",
        "# Affiche chaque clé et sa valeur séparément\n",
        "\n",
        "# Méthode 2 : Utiliser la méthode keys()\n",
        "print(\"\\nMéthode 2 : Utiliser la méthode keys()\")\n",
        "for key in my_dict.keys():\n",
        "    print(key, \":\", my_dict[key])\n",
        "# Affiche chaque clé et sa valeur en utilisant la clé pour accéder à la valeur\n",
        "\n",
        "# Méthode 3 : Utiliser la méthode values()\n",
        "print(\"\\nMéthode 3 : Utiliser la méthode values()\")\n",
        "for value in my_dict.values():\n",
        "    print(value)\n",
        "# Affiche chaque valeur du dictionnaire\n",
        "\n",
        "# Méthode 4 : Utiliser une boucle while avec la méthode popitem()\n",
        "print(\"\\nMéthode 4 : Utiliser une boucle while avec la méthode popitem()\")\n",
        "while my_dict:\n",
        "    key, value = my_dict.popitem()\n",
        "    print(key, \":\", value)\n",
        "# Affiche chaque clé et sa valeur en utilisant la méthode popitem() pour retirer la paire clé/valeur du dictionnaire\n",
        "\n",
        "# Création d'un dictionnaire\n",
        "my_dict2 = {\n",
        "    \"fruit\": \"apple\",\n",
        "    \"vegetable\": \"carrot\",\n",
        "    \"drink\": \"water\",\n",
        "    \"dessert\": \"cake\",\n",
        "    \"snack\": \"chips\",\n",
        "    \"animal\": \"cat\",\n",
        "    \"color\": \"blue\",\n",
        "    \"number\": 42,\n",
        "    \"letter\": \"a\",\n",
        "    \"country\": \"France\"\n",
        "}\n",
        "\n",
        "# Méthode 5 : Utiliser la méthode get() avec une boucle for\n",
        "print(\"\\nMéthode 5 : Utiliser la méthode get() avec une boucle for\")\n",
        "for key in my_dict2:\n",
        "    value = my_dict2.get(key)\n",
        "    print(key, \":\", value)\n",
        "# Affiche chaque clé et sa valeur en utilisant la méthode get()\n",
        "\n"
      ],
      "metadata": {
        "id": "QjhodNdZ6Y1V",
        "colab": {
          "base_uri": "https://localhost:8080/"
        },
        "outputId": "f2dae2d1-c15d-4f8b-885f-0632402b84c5"
      },
      "execution_count": 22,
      "outputs": [
        {
          "output_type": "stream",
          "name": "stdout",
          "text": [
            "Méthode 1 : Utiliser la méthode items()\n",
            "fruit : apple\n",
            "vegetable : carrot\n",
            "drink : water\n",
            "dessert : cake\n",
            "snack : chips\n",
            "animal : cat\n",
            "color : blue\n",
            "number : 42\n",
            "letter : a\n",
            "country : France\n",
            "\n",
            "Méthode 2 : Utiliser la méthode keys()\n",
            "fruit : apple\n",
            "vegetable : carrot\n",
            "drink : water\n",
            "dessert : cake\n",
            "snack : chips\n",
            "animal : cat\n",
            "color : blue\n",
            "number : 42\n",
            "letter : a\n",
            "country : France\n",
            "\n",
            "Méthode 3 : Utiliser la méthode values()\n",
            "apple\n",
            "carrot\n",
            "water\n",
            "cake\n",
            "chips\n",
            "cat\n",
            "blue\n",
            "42\n",
            "a\n",
            "France\n",
            "\n",
            "Méthode 4 : Utiliser une boucle while avec la méthode popitem()\n",
            "country : France\n",
            "letter : a\n",
            "number : 42\n",
            "color : blue\n",
            "animal : cat\n",
            "snack : chips\n",
            "dessert : cake\n",
            "drink : water\n",
            "vegetable : carrot\n",
            "fruit : apple\n",
            "\n",
            "Méthode 5 : Utiliser la méthode get() avec une boucle for\n",
            "fruit : apple\n",
            "vegetable : carrot\n",
            "drink : water\n",
            "dessert : cake\n",
            "snack : chips\n",
            "animal : cat\n",
            "color : blue\n",
            "number : 42\n",
            "letter : a\n",
            "country : France\n"
          ]
        }
      ]
    },
    {
      "cell_type": "markdown",
      "source": [
        "Bien sûr, voici une leçon sur les différentes méthodes pour les dictionnaires en Python, leur utilisation et quand faire des mises à jour.\n",
        "\n",
        "## Les méthodes de base pour les dictionnaires\n",
        "\n",
        "### `clear()`\n",
        "La méthode `clear()` supprime tous les éléments du dictionnaire.\n",
        "\n",
        "### `copy()`\n",
        "La méthode `copy()` renvoie une copie superficielle du dictionnaire.\n",
        "\n",
        "### `fromkeys()`\n",
        "La méthode `fromkeys(iterable, value=None)` crée un nouveau dictionnaire avec les clés de l'itérable et une valeur par défaut optionnelle.\n",
        "\n",
        "### `get(key, default=None)`\n",
        "La méthode `get()` renvoie la valeur associée à la clé donnée, ou une valeur par défaut si la clé n'est pas présente.\n",
        "\n",
        "### `items()`\n",
        "La méthode `items()` renvoie une vue sur les paires clé-valeur du dictionnaire sous forme de tuples.\n",
        "\n",
        "### `keys()`\n",
        "La méthode `keys()` renvoie une vue sur les clés du dictionnaire.\n",
        "\n",
        "### `pop(key, default=None)`\n",
        "La méthode `pop()` supprime et renvoie la valeur associée à la clé donnée, ou une valeur par défaut si la clé n'est pas présente.\n",
        "\n",
        "### `popitem()`\n",
        "La méthode `popitem()` supprime et renvoie une paire clé-valeur arbitraire du dictionnaire.\n",
        "\n",
        "### `setdefault(key, default=None)`\n",
        "La méthode `setdefault()` renvoie la valeur associée à la clé donnée, ou une valeur par défaut si la clé n'est pas présente, et ajoute la clé avec la valeur par défaut si elle n'est pas présente.\n",
        "\n",
        "### `update()`\n",
        "La méthode `update()` met à jour le dictionnaire avec les paires clé-valeur du dictionnaire donné ou des arguments nommés.\n",
        "\n",
        "### `values()`\n",
        "La méthode `values()` renvoie une vue sur les valeurs du dictionnaire.\n",
        "\n",
        "## Utilisation et mises à jour\n",
        "\n",
        "- `clear()` peut être utilisé pour vider un dictionnaire lorsqu'il n'est plus nécessaire de stocker les éléments.\n",
        "\n",
        "- `copy()` peut être utilisé pour créer une copie indépendante du dictionnaire, utile si l'on souhaite modifier la copie sans modifier l'original.\n",
        "\n",
        "- `fromkeys()` peut être utilisé pour initialiser un dictionnaire avec des clés et une valeur par défaut.\n",
        "\n",
        "- `get()` peut être utilisé pour obtenir la valeur associée à une clé spécifique. Si la clé n'est pas présente dans le dictionnaire, la valeur par défaut peut être retournée.\n",
        "\n",
        "- `items()` peut être utilisé pour itérer sur les paires clé-valeur du dictionnaire.\n",
        "\n",
        "- `keys()` peut être utilisé pour obtenir une liste des clés dans le dictionnaire.\n",
        "\n",
        "- `pop()` peut être utilisé pour supprimer une paire clé-valeur spécifique et renvoyer sa valeur.\n",
        "\n",
        "- `popitem()` peut être utilisé pour supprimer une paire clé-valeur arbitraire et la renvoyer.\n",
        "\n",
        "- `setdefault()` peut être utilisé pour obtenir la valeur associée à une clé, en la créant si elle n'existe pas déjà.\n",
        "\n",
        "- `update()` peut être utilisé pour ajouter de nouvelles paires clé-valeur ou remplacer des paires existantes dans le dictionnaire.\n",
        "\n",
        "- `values()` peut être utilisé pour obtenir une liste des valeurs dans le dictionnaire"
      ],
      "metadata": {
        "id": "Vb0UwrvB7TSE"
      }
    }
  ]
}